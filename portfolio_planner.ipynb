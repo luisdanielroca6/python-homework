{
 "cells": [
  {
   "cell_type": "code",
   "execution_count": 1,
   "metadata": {},
   "outputs": [],
   "source": [
    "import os\n",
    "import numpy as np\n",
    "import pandas as pd\n",
    "\n",
    "import sys\n",
    "from datetime import datetime, timedelta\n",
    "import matplotlib.pyplot as plt\n",
    "%matplotlib inline"
   ]
  },
  {
   "cell_type": "code",
   "execution_count": 2,
   "metadata": {},
   "outputs": [],
   "source": [
    "np.random.seed(42)"
   ]
  },
  {
   "cell_type": "markdown",
   "metadata": {},
   "source": [
    "# Portfolio Planner\n",
    "\n",
    "In this activity, you will use the iedfinance api to grab historical data for a 60/40 portfolio using `SPY` to represent the stock portion and `AGG` to represent the bonds."
   ]
  },
  {
   "cell_type": "code",
   "execution_count": 3,
   "metadata": {},
   "outputs": [],
   "source": [
    "from iexfinance.stocks import get_historical_data\n",
    "import iexfinance as iex"
   ]
  },
  {
   "cell_type": "code",
   "execution_count": null,
   "metadata": {},
   "outputs": [],
   "source": []
  },
  {
   "cell_type": "markdown",
   "metadata": {},
   "source": [
    "# Data Collection\n",
    "\n",
    "In this step, you will need to use the IEX api to fetch closing prices for the `SPY` and `AGG` tickers. Save the results as a pandas DataFrame"
   ]
  },
  {
   "cell_type": "code",
   "execution_count": 4,
   "metadata": {},
   "outputs": [],
   "source": [
    "list_of_tickers = [\"SPY\", \"AGG\"]\n",
    "# YOUR CODE HERE\n",
    "end_date = datetime.now()\n",
    "start_date = end_date + timedelta(-365)"
   ]
  },
  {
   "cell_type": "code",
   "execution_count": 5,
   "metadata": {},
   "outputs": [],
   "source": [
    "#Tokens\n",
    "IEX_PUBLISHABLE_TOKEN = os.environ.get('IEX_PUBLISHABLE_TOKEN')\n",
    "IEX_SECRET_TOKEN = os.environ.get('IEX_SECRET_TOKEN')\n"
   ]
  },
  {
   "cell_type": "code",
   "execution_count": 6,
   "metadata": {},
   "outputs": [],
   "source": [
    "tickers=pd.DataFrame(get_historical_data(token=IEX_SECRET_TOKEN,start=start_date, end=end_date, symbols=list_of_tickers, output_format='pandas'))\n",
    "tickers.drop(columns=['open', 'high', 'low', 'volume'], level=1, inplace=True)\n"
   ]
  },
  {
   "cell_type": "code",
   "execution_count": 7,
   "metadata": {},
   "outputs": [
    {
     "data": {
      "text/html": [
       "<div>\n",
       "<style scoped>\n",
       "    .dataframe tbody tr th:only-of-type {\n",
       "        vertical-align: middle;\n",
       "    }\n",
       "\n",
       "    .dataframe tbody tr th {\n",
       "        vertical-align: top;\n",
       "    }\n",
       "\n",
       "    .dataframe thead tr th {\n",
       "        text-align: left;\n",
       "    }\n",
       "\n",
       "    .dataframe thead tr:last-of-type th {\n",
       "        text-align: right;\n",
       "    }\n",
       "</style>\n",
       "<table border=\"1\" class=\"dataframe\">\n",
       "  <thead>\n",
       "    <tr>\n",
       "      <th></th>\n",
       "      <th>SPY</th>\n",
       "      <th>AGG</th>\n",
       "    </tr>\n",
       "    <tr>\n",
       "      <th></th>\n",
       "      <th>close</th>\n",
       "      <th>close</th>\n",
       "    </tr>\n",
       "    <tr>\n",
       "      <th>date</th>\n",
       "      <th></th>\n",
       "      <th></th>\n",
       "    </tr>\n",
       "  </thead>\n",
       "  <tbody>\n",
       "    <tr>\n",
       "      <th>2018-09-04</th>\n",
       "      <td>289.81</td>\n",
       "      <td>106.06</td>\n",
       "    </tr>\n",
       "    <tr>\n",
       "      <th>2018-09-05</th>\n",
       "      <td>289.03</td>\n",
       "      <td>106.01</td>\n",
       "    </tr>\n",
       "    <tr>\n",
       "      <th>2018-09-06</th>\n",
       "      <td>288.16</td>\n",
       "      <td>106.19</td>\n",
       "    </tr>\n",
       "    <tr>\n",
       "      <th>2018-09-07</th>\n",
       "      <td>287.60</td>\n",
       "      <td>105.81</td>\n",
       "    </tr>\n",
       "    <tr>\n",
       "      <th>2018-09-10</th>\n",
       "      <td>288.10</td>\n",
       "      <td>105.91</td>\n",
       "    </tr>\n",
       "  </tbody>\n",
       "</table>\n",
       "</div>"
      ],
      "text/plain": [
       "               SPY     AGG\n",
       "             close   close\n",
       "date                      \n",
       "2018-09-04  289.81  106.06\n",
       "2018-09-05  289.03  106.01\n",
       "2018-09-06  288.16  106.19\n",
       "2018-09-07  287.60  105.81\n",
       "2018-09-10  288.10  105.91"
      ]
     },
     "execution_count": 7,
     "metadata": {},
     "output_type": "execute_result"
    }
   ],
   "source": [
    "tickers.head()"
   ]
  },
  {
   "cell_type": "markdown",
   "metadata": {},
   "source": [
    "# Monte Carlo Simulation\n",
    "\n",
    "In this step, you will run Monte Carlo Simulations for your portfolio to model portfolio performance at different retirement ages. \n",
    "\n",
    "Complete the following steps:\n",
    "1. Calculate the daily returns for the SPY and AGG closing prices.\n",
    "2. Calculate volatility for both the SPY and AGG closing prices.\n",
    "3. Find the last day's closing price for both stocks and save those as variables.\n",
    "4. Run a Monte Carlo Simulation of at least 100 iterations and generate at least 20 years of closing prices\n",
    "\n",
    "### HINTS:\n",
    "There are 252 trading days per year, so the number of records to generate for each Monte Carlo run will be 252 days * 20 years"
   ]
  },
  {
   "cell_type": "code",
   "execution_count": 8,
   "metadata": {},
   "outputs": [
    {
     "data": {
      "text/html": [
       "<div>\n",
       "<style scoped>\n",
       "    .dataframe tbody tr th:only-of-type {\n",
       "        vertical-align: middle;\n",
       "    }\n",
       "\n",
       "    .dataframe tbody tr th {\n",
       "        vertical-align: top;\n",
       "    }\n",
       "\n",
       "    .dataframe thead tr th {\n",
       "        text-align: left;\n",
       "    }\n",
       "\n",
       "    .dataframe thead tr:last-of-type th {\n",
       "        text-align: right;\n",
       "    }\n",
       "</style>\n",
       "<table border=\"1\" class=\"dataframe\">\n",
       "  <thead>\n",
       "    <tr>\n",
       "      <th></th>\n",
       "      <th>SPY</th>\n",
       "      <th>AGG</th>\n",
       "    </tr>\n",
       "    <tr>\n",
       "      <th></th>\n",
       "      <th>close</th>\n",
       "      <th>close</th>\n",
       "    </tr>\n",
       "    <tr>\n",
       "      <th>date</th>\n",
       "      <th></th>\n",
       "      <th></th>\n",
       "    </tr>\n",
       "  </thead>\n",
       "  <tbody>\n",
       "    <tr>\n",
       "      <th>2018-09-04</th>\n",
       "      <td>NaN</td>\n",
       "      <td>NaN</td>\n",
       "    </tr>\n",
       "    <tr>\n",
       "      <th>2018-09-05</th>\n",
       "      <td>-0.002691</td>\n",
       "      <td>-0.000471</td>\n",
       "    </tr>\n",
       "    <tr>\n",
       "      <th>2018-09-06</th>\n",
       "      <td>-0.003010</td>\n",
       "      <td>0.001698</td>\n",
       "    </tr>\n",
       "    <tr>\n",
       "      <th>2018-09-07</th>\n",
       "      <td>-0.001943</td>\n",
       "      <td>-0.003578</td>\n",
       "    </tr>\n",
       "    <tr>\n",
       "      <th>2018-09-10</th>\n",
       "      <td>0.001739</td>\n",
       "      <td>0.000945</td>\n",
       "    </tr>\n",
       "  </tbody>\n",
       "</table>\n",
       "</div>"
      ],
      "text/plain": [
       "                 SPY       AGG\n",
       "               close     close\n",
       "date                          \n",
       "2018-09-04       NaN       NaN\n",
       "2018-09-05 -0.002691 -0.000471\n",
       "2018-09-06 -0.003010  0.001698\n",
       "2018-09-07 -0.001943 -0.003578\n",
       "2018-09-10  0.001739  0.000945"
      ]
     },
     "execution_count": 8,
     "metadata": {},
     "output_type": "execute_result"
    }
   ],
   "source": [
    "# Calculate the daily roi for the stocks\n",
    "# YOUR CODE HERE\n",
    "daily_returns = tickers.pct_change()\n",
    "daily_returns.head()"
   ]
  },
  {
   "cell_type": "code",
   "execution_count": 9,
   "metadata": {},
   "outputs": [],
   "source": [
    "# Calculate volatility\n",
    "# YOUR CODE HERE\n",
    "std_dev_daily_return_spy = daily_returns.std()['SPY']['close']\n",
    "std_dev_daily_return_agg = daily_returns.std()['AGG']['close']"
   ]
  },
  {
   "cell_type": "code",
   "execution_count": null,
   "metadata": {},
   "outputs": [],
   "source": []
  },
  {
   "cell_type": "code",
   "execution_count": 10,
   "metadata": {},
   "outputs": [],
   "source": [
    "# Calculate Value of Average Daily Returns\n",
    "avg_daily_returns_spy = daily_returns.mean()['SPY']['close']\n",
    "avg_daily_returns_agg = daily_returns.mean()['AGG']['close']\n",
    "\n"
   ]
  },
  {
   "cell_type": "code",
   "execution_count": 11,
   "metadata": {},
   "outputs": [
    {
     "name": "stdout",
     "output_type": "stream",
     "text": [
      "<class 'pandas.core.frame.DataFrame'>\n",
      "DatetimeIndex: 250 entries, 2018-09-04 to 2019-08-30\n",
      "Data columns (total 2 columns):\n",
      "(SPY, close)    250 non-null float64\n",
      "(AGG, close)    250 non-null float64\n",
      "dtypes: float64(2)\n",
      "memory usage: 5.9 KB\n"
     ]
    }
   ],
   "source": [
    "# Save the last day's closing price\n",
    "# YOUR CODE HERE\n",
    "\n",
    "\n",
    "tickers.info()"
   ]
  },
  {
   "cell_type": "code",
   "execution_count": 12,
   "metadata": {},
   "outputs": [
    {
     "data": {
      "text/plain": [
       "292.45"
      ]
     },
     "execution_count": 12,
     "metadata": {},
     "output_type": "execute_result"
    }
   ],
   "source": [
    "spy_last_close = tickers['SPY']['close'][-1]\n",
    "spy_last_close"
   ]
  },
  {
   "cell_type": "code",
   "execution_count": 13,
   "metadata": {},
   "outputs": [
    {
     "data": {
      "text/plain": [
       "114.13"
      ]
     },
     "execution_count": 13,
     "metadata": {},
     "output_type": "execute_result"
    }
   ],
   "source": [
    "agg_last_close = tickers['AGG']['close'][-1]\n",
    "agg_last_close"
   ]
  },
  {
   "cell_type": "code",
   "execution_count": 20,
   "metadata": {},
   "outputs": [],
   "source": [
    "# Setup the Monte Carlo Parameters\n",
    "number_simulations = 500\n",
    "number_records = 252 * 30\n",
    "monte_carlo = pd.DataFrame()"
   ]
  },
  {
   "cell_type": "code",
   "execution_count": 21,
   "metadata": {},
   "outputs": [],
   "source": [
    "#Setting up Dataframes \n",
    "simulated_price_df = pd.DataFrame()\n",
    "portfolio_cumulative_returns = pd.DataFrame()\n"
   ]
  },
  {
   "cell_type": "code",
   "execution_count": 22,
   "metadata": {},
   "outputs": [
    {
     "data": {
      "text/html": [
       "<div>\n",
       "<style scoped>\n",
       "    .dataframe tbody tr th:only-of-type {\n",
       "        vertical-align: middle;\n",
       "    }\n",
       "\n",
       "    .dataframe tbody tr th {\n",
       "        vertical-align: top;\n",
       "    }\n",
       "\n",
       "    .dataframe thead th {\n",
       "        text-align: right;\n",
       "    }\n",
       "</style>\n",
       "<table border=\"1\" class=\"dataframe\">\n",
       "  <thead>\n",
       "    <tr style=\"text-align: right;\">\n",
       "      <th></th>\n",
       "      <th>0</th>\n",
       "      <th>1</th>\n",
       "      <th>2</th>\n",
       "      <th>3</th>\n",
       "      <th>4</th>\n",
       "      <th>5</th>\n",
       "      <th>6</th>\n",
       "      <th>7</th>\n",
       "      <th>8</th>\n",
       "      <th>9</th>\n",
       "      <th>...</th>\n",
       "      <th>490</th>\n",
       "      <th>491</th>\n",
       "      <th>492</th>\n",
       "      <th>493</th>\n",
       "      <th>494</th>\n",
       "      <th>495</th>\n",
       "      <th>496</th>\n",
       "      <th>497</th>\n",
       "      <th>498</th>\n",
       "      <th>499</th>\n",
       "    </tr>\n",
       "  </thead>\n",
       "  <tbody>\n",
       "    <tr>\n",
       "      <th>0</th>\n",
       "      <td>1.000000</td>\n",
       "      <td>1.000000</td>\n",
       "      <td>1.000000</td>\n",
       "      <td>1.000000</td>\n",
       "      <td>1.000000</td>\n",
       "      <td>1.000000</td>\n",
       "      <td>1.000000</td>\n",
       "      <td>1.000000</td>\n",
       "      <td>1.000000</td>\n",
       "      <td>1.000000</td>\n",
       "      <td>...</td>\n",
       "      <td>1.000000</td>\n",
       "      <td>1.000000</td>\n",
       "      <td>1.000000</td>\n",
       "      <td>1.000000</td>\n",
       "      <td>1.000000</td>\n",
       "      <td>1.000000</td>\n",
       "      <td>1.000000</td>\n",
       "      <td>1.000000</td>\n",
       "      <td>1.000000</td>\n",
       "      <td>1.000000</td>\n",
       "    </tr>\n",
       "    <tr>\n",
       "      <th>1</th>\n",
       "      <td>0.994639</td>\n",
       "      <td>1.001879</td>\n",
       "      <td>1.004069</td>\n",
       "      <td>1.005899</td>\n",
       "      <td>0.999238</td>\n",
       "      <td>0.998422</td>\n",
       "      <td>1.002999</td>\n",
       "      <td>0.984442</td>\n",
       "      <td>1.002688</td>\n",
       "      <td>1.011873</td>\n",
       "      <td>...</td>\n",
       "      <td>1.007398</td>\n",
       "      <td>0.989228</td>\n",
       "      <td>0.992931</td>\n",
       "      <td>1.001424</td>\n",
       "      <td>1.003080</td>\n",
       "      <td>1.000110</td>\n",
       "      <td>1.006292</td>\n",
       "      <td>0.984375</td>\n",
       "      <td>1.018031</td>\n",
       "      <td>0.997841</td>\n",
       "    </tr>\n",
       "    <tr>\n",
       "      <th>2</th>\n",
       "      <td>0.982258</td>\n",
       "      <td>1.006922</td>\n",
       "      <td>0.997651</td>\n",
       "      <td>1.006659</td>\n",
       "      <td>1.003307</td>\n",
       "      <td>1.003549</td>\n",
       "      <td>1.004740</td>\n",
       "      <td>0.986699</td>\n",
       "      <td>1.019084</td>\n",
       "      <td>1.014656</td>\n",
       "      <td>...</td>\n",
       "      <td>1.001525</td>\n",
       "      <td>0.996466</td>\n",
       "      <td>0.990823</td>\n",
       "      <td>0.993355</td>\n",
       "      <td>1.004525</td>\n",
       "      <td>1.001404</td>\n",
       "      <td>0.991286</td>\n",
       "      <td>0.978023</td>\n",
       "      <td>1.014847</td>\n",
       "      <td>0.998158</td>\n",
       "    </tr>\n",
       "    <tr>\n",
       "      <th>3</th>\n",
       "      <td>0.981752</td>\n",
       "      <td>1.008028</td>\n",
       "      <td>0.995636</td>\n",
       "      <td>1.017646</td>\n",
       "      <td>1.010847</td>\n",
       "      <td>0.999615</td>\n",
       "      <td>1.006340</td>\n",
       "      <td>0.982175</td>\n",
       "      <td>1.028936</td>\n",
       "      <td>1.013770</td>\n",
       "      <td>...</td>\n",
       "      <td>0.999628</td>\n",
       "      <td>0.988963</td>\n",
       "      <td>0.979783</td>\n",
       "      <td>0.984639</td>\n",
       "      <td>1.006958</td>\n",
       "      <td>1.004703</td>\n",
       "      <td>0.989476</td>\n",
       "      <td>0.964588</td>\n",
       "      <td>1.009302</td>\n",
       "      <td>0.991793</td>\n",
       "    </tr>\n",
       "    <tr>\n",
       "      <th>4</th>\n",
       "      <td>0.984718</td>\n",
       "      <td>1.001268</td>\n",
       "      <td>0.989957</td>\n",
       "      <td>1.019991</td>\n",
       "      <td>1.017104</td>\n",
       "      <td>1.009072</td>\n",
       "      <td>1.010640</td>\n",
       "      <td>0.984751</td>\n",
       "      <td>1.031648</td>\n",
       "      <td>1.021523</td>\n",
       "      <td>...</td>\n",
       "      <td>0.988329</td>\n",
       "      <td>0.992023</td>\n",
       "      <td>0.985584</td>\n",
       "      <td>0.982412</td>\n",
       "      <td>1.014022</td>\n",
       "      <td>1.008462</td>\n",
       "      <td>0.994521</td>\n",
       "      <td>0.966187</td>\n",
       "      <td>1.011641</td>\n",
       "      <td>0.988869</td>\n",
       "    </tr>\n",
       "  </tbody>\n",
       "</table>\n",
       "<p>5 rows × 500 columns</p>\n",
       "</div>"
      ],
      "text/plain": [
       "        0         1         2         3         4         5         6    \\\n",
       "0  1.000000  1.000000  1.000000  1.000000  1.000000  1.000000  1.000000   \n",
       "1  0.994639  1.001879  1.004069  1.005899  0.999238  0.998422  1.002999   \n",
       "2  0.982258  1.006922  0.997651  1.006659  1.003307  1.003549  1.004740   \n",
       "3  0.981752  1.008028  0.995636  1.017646  1.010847  0.999615  1.006340   \n",
       "4  0.984718  1.001268  0.989957  1.019991  1.017104  1.009072  1.010640   \n",
       "\n",
       "        7         8         9    ...       490       491       492       493  \\\n",
       "0  1.000000  1.000000  1.000000  ...  1.000000  1.000000  1.000000  1.000000   \n",
       "1  0.984442  1.002688  1.011873  ...  1.007398  0.989228  0.992931  1.001424   \n",
       "2  0.986699  1.019084  1.014656  ...  1.001525  0.996466  0.990823  0.993355   \n",
       "3  0.982175  1.028936  1.013770  ...  0.999628  0.988963  0.979783  0.984639   \n",
       "4  0.984751  1.031648  1.021523  ...  0.988329  0.992023  0.985584  0.982412   \n",
       "\n",
       "        494       495       496       497       498       499  \n",
       "0  1.000000  1.000000  1.000000  1.000000  1.000000  1.000000  \n",
       "1  1.003080  1.000110  1.006292  0.984375  1.018031  0.997841  \n",
       "2  1.004525  1.001404  0.991286  0.978023  1.014847  0.998158  \n",
       "3  1.006958  1.004703  0.989476  0.964588  1.009302  0.991793  \n",
       "4  1.014022  1.008462  0.994521  0.966187  1.011641  0.988869  \n",
       "\n",
       "[5 rows x 500 columns]"
      ]
     },
     "execution_count": 22,
     "metadata": {},
     "output_type": "execute_result"
    }
   ],
   "source": [
    "# Run the Monte Carlo Simulation\n",
    "for n in range(number_simulations):\n",
    "    simulated_spy_prices = [spy_last_close]\n",
    "    simulated_agg_prices = [agg_last_close]\n",
    "    \n",
    "    for i in range(number_records):\n",
    "        simulate_spy = simulated_spy_prices[-1] * (1 + np.random.normal(avg_daily_returns_spy, std_dev_daily_return_spy))\n",
    "        simulate_agg = simulated_agg_prices[-1] * (1 + np.random.normal(avg_daily_returns_agg, std_dev_daily_return_agg))\n",
    "        \n",
    "        simulated_spy_prices.append(simulate_spy)\n",
    "        simulated_agg_prices.append(simulate_agg)\n",
    "        \n",
    "    simulated_price_df[f\"SPY Prices\"] = pd.Series(simulated_spy_prices)\n",
    "    simulated_price_df[f\"AGG Prices \"] = pd.Series(simulated_agg_prices)\n",
    "    \n",
    "    # Calculate the daily returns of simulated prices\n",
    "    simulated_daily_returns = simulated_price_df.pct_change()\n",
    "    \n",
    "\n",
    "    weights = [0.60, 0.40]\n",
    "\n",
    "    # Use the `dot` function with the weights to multiply weights with each column's simulated daily returns\n",
    "    portfolio_daily_returns = simulated_daily_returns.dot(weights)\n",
    "    \n",
    "\n",
    "    # Calculate the normalized, cumulative return series\n",
    "    portfolio_cumulative_returns[n] = (1 + portfolio_daily_returns.fillna(0)).cumprod()\n",
    "\n",
    "portfolio_cumulative_returns.head()"
   ]
  },
  {
   "cell_type": "code",
   "execution_count": 23,
   "metadata": {},
   "outputs": [
    {
     "data": {
      "text/plain": [
       "<matplotlib.axes._subplots.AxesSubplot at 0x2cad3039320>"
      ]
     },
     "execution_count": 23,
     "metadata": {},
     "output_type": "execute_result"
    },
    {
     "data": {
      "image/png": "[encoded data removed]",
      "text/plain": [
       "<Figure size 432x288 with 1 Axes>"
      ]
     },
     "metadata": {
      "needs_background": "light"
     },
     "output_type": "display_data"
    }
   ],
   "source": [
    "# Visualize the Simulation\n",
    "# YOUR CODE HERE\n",
    "plot_title = f\"{n+1} Simulations of Cumulative Portfolio Return Trajectories Over the Next 252 Trading Days\"\n",
    "\n",
    "portfolio_cumulative_returns.plot(legend=None, title=plot_title)\n"
   ]
  },
  {
   "cell_type": "code",
   "execution_count": 31,
   "metadata": {},
   "outputs": [
    {
     "data": {
      "text/plain": [
       "0    2.750405\n",
       "1    3.042040\n",
       "2    3.005310\n",
       "3    5.033200\n",
       "4    4.065702\n",
       "Name: 7560, dtype: float64"
      ]
     },
     "execution_count": 31,
     "metadata": {},
     "output_type": "execute_result"
    }
   ],
   "source": [
    "ending_cumulative_returns = portfolio_cumulative_returns.iloc[-1, :]\n",
    "ending_cumulative_returns.head()\n"
   ]
  },
  {
   "cell_type": "code",
   "execution_count": 36,
   "metadata": {},
   "outputs": [
    {
     "data": {
      "text/plain": [
       "0.05    1.315631\n",
       "0.90    6.401778\n",
       "Name: 7560, dtype: float64"
      ]
     },
     "execution_count": 36,
     "metadata": {},
     "output_type": "execute_result"
    }
   ],
   "source": [
    "# Display the 90% confidence interval for the ending returns\n",
    "# YOUR CODE HERE\n",
    "confidence_interval = ending_cumulative_returns.quantile(q=[0.05, 0.90])\n",
    "confidence_interval.head()"
   ]
  },
  {
   "cell_type": "code",
   "execution_count": 37,
   "metadata": {},
   "outputs": [
    {
     "data": {
      "text/plain": [
       "(2.299, 4.021]      0.380\n",
       "(0.559, 2.299]      0.260\n",
       "(4.021, 5.744]      0.198\n",
       "(5.744, 7.466]      0.106\n",
       "(7.466, 9.188]      0.022\n",
       "(9.188, 10.91]      0.016\n",
       "(10.91, 12.632]     0.008\n",
       "(14.354, 16.076]    0.004\n",
       "(12.632, 14.354]    0.004\n",
       "(16.076, 17.799]    0.002\n",
       "Name: 7560, dtype: float64"
      ]
     },
     "execution_count": 37,
     "metadata": {},
     "output_type": "execute_result"
    }
   ],
   "source": [
    "ending_cumulative_returns.value_counts(bins=10) / len(ending_cumulative_returns)"
   ]
  },
  {
   "cell_type": "code",
   "execution_count": 38,
   "metadata": {},
   "outputs": [
    {
     "data": {
      "text/plain": [
       "<matplotlib.lines.Line2D at 0x2cae2368da0>"
      ]
     },
     "execution_count": 38,
     "metadata": {},
     "output_type": "execute_result"
    },
    {
     "data": {
      "image/png": "[encoded data removed]",
      "text/plain": [
       "<Figure size 432x288 with 1 Axes>"
      ]
     },
     "metadata": {
      "needs_background": "light"
     },
     "output_type": "display_data"
    }
   ],
   "source": [
    "# Visualize the distribution of the ending returns\n",
    "# YOUR CODE HERE\n",
    "\n",
    "plt.figure();\n",
    "ending_cumulative_returns.plot(kind='hist', density=True, bins=10)\n",
    "plt.axvline(confidence_interval.iloc[0], color='r')\n",
    "plt.axvline(confidence_interval.iloc[1], color='r')"
   ]
  },
  {
   "cell_type": "markdown",
   "metadata": {},
   "source": [
    "---"
   ]
  },
  {
   "cell_type": "markdown",
   "metadata": {},
   "source": [
    "# Retirement Analysis\n",
    "\n",
    "In this section, you will use the monte carlo model to answer the following retirement planning questions:\n",
    "\n",
    "1. What are the expected cumulative returns at 30 years for the 10th, 50th, and 90th percentiles?\n",
    "2. Given an initial investment of `$20,000`, what is the expected portfolio return in dollars at the 10th, 50th, and 90th percentiles?\n",
    "3. Given the current projected annual income from the Plaid analysis, will a 4% withdraw rate from the retirement portfolio meet or exceed that value at the 10th percentile?\n",
    "4. How would a 50% increase in the initial investment amount affect the 4% retirement withdrawal?"
   ]
  },
  {
   "cell_type": "markdown",
   "metadata": {},
   "source": [
    "### What are the expected cumulative returns at 30 years for the 10th, 50th, and 90th percentiles?"
   ]
  },
  {
   "cell_type": "code",
   "execution_count": 53,
   "metadata": {},
   "outputs": [
    {
     "name": "stdout",
     "output_type": "stream",
     "text": [
      "0.9896484135641365\n",
      "1.6666175497303146\n",
      "3.694592163374336\n"
     ]
    }
   ],
   "source": [
    "\n",
    "# YOUR CODE HERE \n",
    "portfolio_cumulative_percentile = portfolio_cumulative_returns.to_numpy()\n",
    "\n",
    "for i in [10,50,90]:\n",
    "    x = (np.percentile(portfolio_cumulative_percentile, i))\n",
    "    print(x)\n"
   ]
  },
  {
   "cell_type": "markdown",
   "metadata": {},
   "source": [
    "### Given an initial investment of `$50,000`, what is the expected portfolio return in dollars at the 10th, 50th, and 90th percentiles?"
   ]
  },
  {
   "cell_type": "code",
   "execution_count": 56,
   "metadata": {},
   "outputs": [
    {
     "name": "stdout",
     "output_type": "stream",
     "text": [
      "99482.42067820684\n",
      "133330.87748651573\n",
      "234729.60816871683\n"
     ]
    }
   ],
   "source": [
    "# YOUR CODE HERE\n",
    "growth = []\n",
    "for i in [10,50,90]:\n",
    "    growth.append((np.percentile(portfolio_cumulative_percentile, i)))\n",
    "for i in growth:\n",
    "    print((1+i)*50000)"
   ]
  },
  {
   "cell_type": "markdown",
   "metadata": {},
   "source": [
    "### Given the current projected annual income from the Plaid analysis, will a 4% withdraw rate from the retirement portfolio meet or exceed that value at the 10th percentile?\n",
    "\n",
    "Note: This is effectively saying that 90% of the expected returns will be greater than the return at the 10th percentile, so this can help measure the uncertainty about having enough funds at retirement"
   ]
  },
  {
   "cell_type": "code",
   "execution_count": null,
   "metadata": {},
   "outputs": [],
   "source": [
    "# YOUR CODE HERE"
   ]
  },
  {
   "cell_type": "markdown",
   "metadata": {},
   "source": [
    "### How would a 50% increase in the initial investment amount affect the 4% retirement withdrawal?"
   ]
  },
  {
   "cell_type": "code",
   "execution_count": null,
   "metadata": {},
   "outputs": [],
   "source": [
    "# YOUR CODE HERE"
   ]
  },
  {
   "cell_type": "markdown",
   "metadata": {},
   "source": [
    "### Optional Challenge\n",
    "\n",
    "In this section, you will calculate and plot the cumulative returns for the median and 90% confidence intervals. This plot shows the expected cumulative returns for any given day between the first day and the last day of investment. "
   ]
  },
  {
   "cell_type": "code",
   "execution_count": null,
   "metadata": {},
   "outputs": [],
   "source": [
    "# YOUR CODE HERE"
   ]
  }
 ],
 "metadata": {
  "kernel_info": {
   "name": "dev"
  },
  "kernelspec": {
   "display_name": "Python 3",
   "language": "python",
   "name": "python3"
  },
  "language_info": {
   "codemirror_mode": {
    "name": "ipython",
    "version": 3
   },
   "file_extension": ".py",
   "mimetype": "text/x-python",
   "name": "python",
   "nbconvert_exporter": "python",
   "pygments_lexer": "ipython3",
   "version": "3.7.3"
  },
  "nteract": {
   "version": "0.12.3"
  }
 },
 "nbformat": 4,
 "nbformat_minor": 4
}
